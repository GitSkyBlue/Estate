{
 "cells": [
  {
   "cell_type": "markdown",
   "metadata": {},
   "source": [
    "# 서울의 노른자, 2호선 내부 부동산 분석!"
   ]
  },
  {
   "cell_type": "markdown",
   "metadata": {},
   "source": [
    "## 0. 서론   \n",
    "- 주제 선정   \n",
    "\n",
    "부동산 데이터 시각화 프로젝트를 진행하기 위해 분석 방향성을 생각해보던 중, 서울의 부동산은 2호선의 안과 밖으로 나뉜다는 주제로 대화했던 것이 생각나서 분석을 해보고자 이 프로젝트를 진행하게 되었다.\n",
    "\n",
    "- 서울시 2호선 안과 밖 자치구 정보"
   ]
  },
  {
   "cell_type": "code",
   "execution_count": 12,
   "metadata": {},
   "outputs": [],
   "source": [
    "# 라인따놓은거 넣기"
   ]
  },
  {
   "cell_type": "code",
   "execution_count": 11,
   "metadata": {},
   "outputs": [],
   "source": [
    "# 안쪽과 바깥쪽 지역구명 표시"
   ]
  },
  {
   "cell_type": "markdown",
   "metadata": {},
   "source": [
    "## 1. 부동산의 가격과 연관이 있는 지표\n",
    "\n",
    "### 1.1 거시경제지표\n",
    "부동산에 가격에 영향을 줄 수 있는 거시경제지표로는 대표적으로 금리, CPI, 국고채 등이 있다."
   ]
  },
  {
   "cell_type": "code",
   "execution_count": 13,
   "metadata": {},
   "outputs": [],
   "source": [
    "# 아파트지수, 주택지수 vs 금리"
   ]
  },
  {
   "cell_type": "code",
   "execution_count": 31,
   "metadata": {},
   "outputs": [],
   "source": [
    "# 아파트지수, 주택지수 vs CPI, PPI"
   ]
  },
  {
   "cell_type": "code",
   "execution_count": 17,
   "metadata": {},
   "outputs": [],
   "source": [
    "# 아파트지수, 주택지수 vs 국고채"
   ]
  },
  {
   "cell_type": "markdown",
   "metadata": {},
   "source": [
    "### 1.2 금융시장(KOSPI)"
   ]
  },
  {
   "cell_type": "code",
   "execution_count": 14,
   "metadata": {},
   "outputs": [],
   "source": [
    "# 아파트지수, 주택지수 vs KOSPI"
   ]
  },
  {
   "cell_type": "code",
   "execution_count": 15,
   "metadata": {},
   "outputs": [],
   "source": [
    "# 아파트지수, 주택지수 vs KOSPI (거래량) < 가능하다면"
   ]
  },
  {
   "cell_type": "markdown",
   "metadata": {},
   "source": [
    "### 1.3 해외 자본 유입(환율)"
   ]
  },
  {
   "cell_type": "code",
   "execution_count": 18,
   "metadata": {},
   "outputs": [],
   "source": [
    "# 아파트지수, 주택지수 vs 환율"
   ]
  },
  {
   "cell_type": "markdown",
   "metadata": {},
   "source": [
    "### 1.4 글로벌 경제 위기(COVID 19)"
   ]
  },
  {
   "cell_type": "code",
   "execution_count": 19,
   "metadata": {},
   "outputs": [],
   "source": [
    "# 아파트지수, 주택지수 2019.12 ~ 2020.12"
   ]
  },
  {
   "cell_type": "markdown",
   "metadata": {},
   "source": [
    "## 2. 데이터 전처리"
   ]
  },
  {
   "cell_type": "code",
   "execution_count": 46,
   "metadata": {},
   "outputs": [],
   "source": [
    "# 2020, 2021 데이터 병합"
   ]
  },
  {
   "cell_type": "code",
   "execution_count": 29,
   "metadata": {},
   "outputs": [],
   "source": [
    "# 년월 나누기"
   ]
  },
  {
   "cell_type": "code",
   "execution_count": 32,
   "metadata": {},
   "outputs": [],
   "source": [
    "# 거시경제지표 붙이기"
   ]
  },
  {
   "cell_type": "code",
   "execution_count": 47,
   "metadata": {},
   "outputs": [],
   "source": [
    "# 상세주소로 변경(구동본부)"
   ]
  },
  {
   "cell_type": "code",
   "execution_count": 33,
   "metadata": {},
   "outputs": [],
   "source": [
    "# 면적당 단가 처리"
   ]
  },
  {
   "cell_type": "code",
   "execution_count": 35,
   "metadata": {},
   "outputs": [],
   "source": [
    "# 필요없는 열 버리기"
   ]
  },
  {
   "cell_type": "code",
   "execution_count": 50,
   "metadata": {},
   "outputs": [],
   "source": [
    "# null처리"
   ]
  },
  {
   "cell_type": "code",
   "execution_count": 51,
   "metadata": {},
   "outputs": [],
   "source": [
    "# 사용할 데이터 수치화, 원핫인코딩"
   ]
  },
  {
   "cell_type": "code",
   "execution_count": 36,
   "metadata": {},
   "outputs": [],
   "source": [
    "# 데이터타입 변환 필요시 진행"
   ]
  },
  {
   "cell_type": "code",
   "execution_count": 30,
   "metadata": {},
   "outputs": [],
   "source": [
    "# 좌표 추가 (카카오)"
   ]
  },
  {
   "cell_type": "markdown",
   "metadata": {},
   "source": [
    "## 3. EDA"
   ]
  },
  {
   "cell_type": "code",
   "execution_count": 9,
   "metadata": {},
   "outputs": [],
   "source": [
    "import pandas as pd\n",
    "import matplotlib.pyplot as plt\n",
    "\n",
    "plt.rcParams['font.family'] ='Malgun Gothic'\n",
    "plt.rcParams['axes.unicode_minus'] =False"
   ]
  },
  {
   "cell_type": "code",
   "execution_count": 10,
   "metadata": {},
   "outputs": [
    {
     "data": {
      "text/html": [
       "<div>\n",
       "<style scoped>\n",
       "    .dataframe tbody tr th:only-of-type {\n",
       "        vertical-align: middle;\n",
       "    }\n",
       "\n",
       "    .dataframe tbody tr th {\n",
       "        vertical-align: top;\n",
       "    }\n",
       "\n",
       "    .dataframe thead th {\n",
       "        text-align: right;\n",
       "    }\n",
       "</style>\n",
       "<table border=\"1\" class=\"dataframe\">\n",
       "  <thead>\n",
       "    <tr style=\"text-align: right;\">\n",
       "      <th></th>\n",
       "      <th>자치구코드</th>\n",
       "      <th>자치구명</th>\n",
       "      <th>법정동코드</th>\n",
       "      <th>법정동명</th>\n",
       "      <th>지번구분</th>\n",
       "      <th>지번구분명</th>\n",
       "      <th>본번</th>\n",
       "      <th>부번</th>\n",
       "      <th>건물명</th>\n",
       "      <th>계약일</th>\n",
       "      <th>...</th>\n",
       "      <th>소비자물가지수</th>\n",
       "      <th>아파트 매매 실거래가격지수</th>\n",
       "      <th>주택매매가격지수(KB)</th>\n",
       "      <th>주택전세가격지수(KB)</th>\n",
       "      <th>면적당 단가</th>\n",
       "      <th>물건금액(만원)_평균</th>\n",
       "      <th>건물용도_단독다가구</th>\n",
       "      <th>건물용도_아파트</th>\n",
       "      <th>건물용도_연립다세대</th>\n",
       "      <th>건물용도_오피스텔</th>\n",
       "    </tr>\n",
       "  </thead>\n",
       "  <tbody>\n",
       "    <tr>\n",
       "      <th>0</th>\n",
       "      <td>11380</td>\n",
       "      <td>은평구</td>\n",
       "      <td>10800</td>\n",
       "      <td>역촌동</td>\n",
       "      <td>1.0</td>\n",
       "      <td>대지</td>\n",
       "      <td>26.0</td>\n",
       "      <td>7.0</td>\n",
       "      <td>서원타운</td>\n",
       "      <td>2020-01-01</td>\n",
       "      <td>...</td>\n",
       "      <td>100.09</td>\n",
       "      <td>133.0</td>\n",
       "      <td>80.516</td>\n",
       "      <td>82.719</td>\n",
       "      <td>360.417728</td>\n",
       "      <td>22217.5</td>\n",
       "      <td>0.0</td>\n",
       "      <td>0.0</td>\n",
       "      <td>1.0</td>\n",
       "      <td>0.0</td>\n",
       "    </tr>\n",
       "  </tbody>\n",
       "</table>\n",
       "<p>1 rows × 34 columns</p>\n",
       "</div>"
      ],
      "text/plain": [
       "   자치구코드 자치구명  법정동코드 법정동명  지번구분 지번구분명    본번   부번   건물명         계약일  ...  \\\n",
       "0  11380  은평구  10800  역촌동   1.0    대지  26.0  7.0  서원타운  2020-01-01  ...   \n",
       "\n",
       "   소비자물가지수  아파트 매매 실거래가격지수  주택매매가격지수(KB)  주택전세가격지수(KB)      면적당 단가  \\\n",
       "0   100.09           133.0        80.516        82.719  360.417728   \n",
       "\n",
       "   물건금액(만원)_평균  건물용도_단독다가구  건물용도_아파트  건물용도_연립다세대  건물용도_오피스텔  \n",
       "0      22217.5         0.0       0.0         1.0        0.0  \n",
       "\n",
       "[1 rows x 34 columns]"
      ]
     },
     "execution_count": 10,
     "metadata": {},
     "output_type": "execute_result"
    }
   ],
   "source": [
    "df = pd.read_csv('seoul_estate_data.csv', encoding='utf-8-sig')\n",
    "df.head(1)"
   ]
  },
  {
   "cell_type": "code",
   "execution_count": 20,
   "metadata": {},
   "outputs": [
    {
     "name": "stdout",
     "output_type": "stream",
     "text": [
      "<class 'pandas.core.frame.DataFrame'>\n",
      "RangeIndex: 535153 entries, 0 to 535152\n",
      "Data columns (total 34 columns):\n",
      " #   Column          Non-Null Count   Dtype  \n",
      "---  ------          --------------   -----  \n",
      " 0   자치구코드           535153 non-null  int64  \n",
      " 1   자치구명            535153 non-null  object \n",
      " 2   법정동코드           535153 non-null  int64  \n",
      " 3   법정동명            535153 non-null  object \n",
      " 4   지번구분            502172 non-null  float64\n",
      " 5   지번구분명           502172 non-null  object \n",
      " 6   본번              502184 non-null  float64\n",
      " 7   부번              502184 non-null  float64\n",
      " 8   건물명             502169 non-null  object \n",
      " 9   계약일             535153 non-null  object \n",
      " 10  물건금액(만원)        535153 non-null  int64  \n",
      " 11  건물면적(㎡)         535153 non-null  float64\n",
      " 12  층               535153 non-null  float64\n",
      " 13  건축년도            532110 non-null  float64\n",
      " 14  건물용도            535153 non-null  object \n",
      " 15  KOSPI지수         535153 non-null  float64\n",
      " 16  거래량(주식시장, 잠정치)  535153 non-null  float64\n",
      " 17  국고채(1년)         535153 non-null  float64\n",
      " 18  국고채(3년)         535153 non-null  float64\n",
      " 19  국고채(5년)         535153 non-null  float64\n",
      " 20  원/미국달러(매매기준율)   535153 non-null  float64\n",
      " 21  한국은행 기준금리       535153 non-null  float64\n",
      " 22  M2 경제주체별 보유현황   535153 non-null  float64\n",
      " 23  생산자물가지수         535153 non-null  float64\n",
      " 24  소비자물가지수         535153 non-null  float64\n",
      " 25  아파트 매매 실거래가격지수  535153 non-null  float64\n",
      " 26  주택매매가격지수(KB)    535153 non-null  float64\n",
      " 27  주택전세가격지수(KB)    535153 non-null  float64\n",
      " 28  면적당 단가          535153 non-null  float64\n",
      " 29  물건금액(만원)_평균     535153 non-null  float64\n",
      " 30  건물용도_단독다가구      535153 non-null  float64\n",
      " 31  건물용도_아파트        535153 non-null  float64\n",
      " 32  건물용도_연립다세대      535153 non-null  float64\n",
      " 33  건물용도_오피스텔       535153 non-null  float64\n",
      "dtypes: float64(25), int64(3), object(6)\n",
      "memory usage: 138.8+ MB\n"
     ]
    }
   ],
   "source": [
    "df.info()"
   ]
  },
  {
   "cell_type": "code",
   "execution_count": 21,
   "metadata": {},
   "outputs": [
    {
     "data": {
      "text/plain": [
       "자치구코드                 0\n",
       "자치구명                  0\n",
       "법정동코드                 0\n",
       "법정동명                  0\n",
       "지번구분              32981\n",
       "지번구분명             32981\n",
       "본번                32969\n",
       "부번                32969\n",
       "건물명               32984\n",
       "계약일                   0\n",
       "물건금액(만원)              0\n",
       "건물면적(㎡)               0\n",
       "층                     0\n",
       "건축년도               3043\n",
       "건물용도                  0\n",
       "KOSPI지수               0\n",
       "거래량(주식시장, 잠정치)        0\n",
       "국고채(1년)               0\n",
       "국고채(3년)               0\n",
       "국고채(5년)               0\n",
       "원/미국달러(매매기준율)         0\n",
       "한국은행 기준금리             0\n",
       "M2 경제주체별 보유현황         0\n",
       "생산자물가지수               0\n",
       "소비자물가지수               0\n",
       "아파트 매매 실거래가격지수        0\n",
       "주택매매가격지수(KB)          0\n",
       "주택전세가격지수(KB)          0\n",
       "면적당 단가                0\n",
       "물건금액(만원)_평균           0\n",
       "건물용도_단독다가구            0\n",
       "건물용도_아파트              0\n",
       "건물용도_연립다세대            0\n",
       "건물용도_오피스텔             0\n",
       "dtype: int64"
      ]
     },
     "execution_count": 21,
     "metadata": {},
     "output_type": "execute_result"
    }
   ],
   "source": [
    "df.isnull().sum()"
   ]
  },
  {
   "cell_type": "code",
   "execution_count": 45,
   "metadata": {},
   "outputs": [],
   "source": [
    "# 평균가격 (전체)"
   ]
  },
  {
   "cell_type": "code",
   "execution_count": 48,
   "metadata": {},
   "outputs": [],
   "source": [
    "# 평수 / 가격 스캐터"
   ]
  },
  {
   "cell_type": "code",
   "execution_count": 23,
   "metadata": {},
   "outputs": [],
   "source": [
    "# 2호선 안밖 평균 가격 비교"
   ]
  },
  {
   "cell_type": "code",
   "execution_count": null,
   "metadata": {},
   "outputs": [],
   "source": [
    "# 가격 비싼 동 TOP 5, 낮은 동 TOP 5"
   ]
  },
  {
   "cell_type": "code",
   "execution_count": 28,
   "metadata": {},
   "outputs": [],
   "source": [
    "# 가격 비싼 구 TOP 5, 낮은 구 TOP 5 < 필요하다면"
   ]
  },
  {
   "cell_type": "code",
   "execution_count": 24,
   "metadata": {},
   "outputs": [],
   "source": [
    "# 상위 하위 5% 없앤 자료에서의 평균 (IC)"
   ]
  },
  {
   "cell_type": "code",
   "execution_count": 26,
   "metadata": {},
   "outputs": [],
   "source": [
    "# 신축 vs 구축 비교 -> 내부에 신축건물이 많은가?"
   ]
  },
  {
   "cell_type": "code",
   "execution_count": 40,
   "metadata": {},
   "outputs": [],
   "source": [
    "# 건물용도별 평균 가격"
   ]
  },
  {
   "cell_type": "code",
   "execution_count": 42,
   "metadata": {},
   "outputs": [],
   "source": [
    "# 건물용도 비율(안밖)"
   ]
  },
  {
   "cell_type": "code",
   "execution_count": 37,
   "metadata": {},
   "outputs": [],
   "source": [
    "# 연도별 상승률 정리 (건물별로)"
   ]
  },
  {
   "cell_type": "code",
   "execution_count": 49,
   "metadata": {},
   "outputs": [],
   "source": [
    "# 히트맵"
   ]
  },
  {
   "cell_type": "markdown",
   "metadata": {},
   "source": [
    "## 3.5 머신러닝 예측(상황보고)"
   ]
  },
  {
   "cell_type": "markdown",
   "metadata": {},
   "source": [
    "## 4. 결론   \n",
    "데이터를 통해 분석해본 결과 ~"
   ]
  },
  {
   "cell_type": "code",
   "execution_count": null,
   "metadata": {},
   "outputs": [],
   "source": []
  },
  {
   "cell_type": "markdown",
   "metadata": {},
   "source": [
    "## 5. 데이터 출처   \n",
    "\n",
    "서울시 경계 json"
   ]
  }
 ],
 "metadata": {
  "kernelspec": {
   "display_name": "Python 3",
   "language": "python",
   "name": "python3"
  },
  "language_info": {
   "codemirror_mode": {
    "name": "ipython",
    "version": 3
   },
   "file_extension": ".py",
   "mimetype": "text/x-python",
   "name": "python",
   "nbconvert_exporter": "python",
   "pygments_lexer": "ipython3",
   "version": "3.12.7"
  }
 },
 "nbformat": 4,
 "nbformat_minor": 2
}
