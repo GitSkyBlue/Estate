{
 "cells": [
  {
   "cell_type": "markdown",
   "metadata": {},
   "source": [
    "# 0. 서론   \n",
    "- 주제 선정   \n",
    "\n",
    "부동산 데이터 시각화 프로젝트를 진행하기 위해 분석 방향성을 생각해보던 중, 서울의 부동산은 2호선의 안과 밖으로 나뉜다는 주제로 대화했던 것이 생각나서 분석을 해보고자 이 프로젝트를 진행하게 되었다.\n",
    "\n",
    "- 서울시 2호선 안과 밖 자치구 정보"
   ]
  },
  {
   "cell_type": "code",
   "execution_count": null,
   "metadata": {},
   "outputs": [],
   "source": [
    "plt.plot('folium 불러오기')"
   ]
  },
  {
   "cell_type": "markdown",
   "metadata": {},
   "source": [
    "# 1. 부동산의 가격에 영향을 주는 지표"
   ]
  },
  {
   "cell_type": "code",
   "execution_count": 9,
   "metadata": {},
   "outputs": [],
   "source": [
    "import pandas as pd\n",
    "import matplotlib.pyplot as plt\n",
    "\n",
    "plt.rcParams['font.family'] ='Malgun Gothic'\n",
    "plt.rcParams['axes.unicode_minus'] =False"
   ]
  },
  {
   "cell_type": "code",
   "execution_count": 10,
   "metadata": {},
   "outputs": [
    {
     "data": {
      "text/html": [
       "<div>\n",
       "<style scoped>\n",
       "    .dataframe tbody tr th:only-of-type {\n",
       "        vertical-align: middle;\n",
       "    }\n",
       "\n",
       "    .dataframe tbody tr th {\n",
       "        vertical-align: top;\n",
       "    }\n",
       "\n",
       "    .dataframe thead th {\n",
       "        text-align: right;\n",
       "    }\n",
       "</style>\n",
       "<table border=\"1\" class=\"dataframe\">\n",
       "  <thead>\n",
       "    <tr style=\"text-align: right;\">\n",
       "      <th></th>\n",
       "      <th>자치구코드</th>\n",
       "      <th>자치구명</th>\n",
       "      <th>법정동코드</th>\n",
       "      <th>법정동명</th>\n",
       "      <th>지번구분</th>\n",
       "      <th>지번구분명</th>\n",
       "      <th>본번</th>\n",
       "      <th>부번</th>\n",
       "      <th>건물명</th>\n",
       "      <th>계약일</th>\n",
       "      <th>...</th>\n",
       "      <th>소비자물가지수</th>\n",
       "      <th>아파트 매매 실거래가격지수</th>\n",
       "      <th>주택매매가격지수(KB)</th>\n",
       "      <th>주택전세가격지수(KB)</th>\n",
       "      <th>면적당 단가</th>\n",
       "      <th>물건금액(만원)_평균</th>\n",
       "      <th>건물용도_단독다가구</th>\n",
       "      <th>건물용도_아파트</th>\n",
       "      <th>건물용도_연립다세대</th>\n",
       "      <th>건물용도_오피스텔</th>\n",
       "    </tr>\n",
       "  </thead>\n",
       "  <tbody>\n",
       "    <tr>\n",
       "      <th>0</th>\n",
       "      <td>11380</td>\n",
       "      <td>은평구</td>\n",
       "      <td>10800</td>\n",
       "      <td>역촌동</td>\n",
       "      <td>1.0</td>\n",
       "      <td>대지</td>\n",
       "      <td>26.0</td>\n",
       "      <td>7.0</td>\n",
       "      <td>서원타운</td>\n",
       "      <td>2020-01-01</td>\n",
       "      <td>...</td>\n",
       "      <td>100.09</td>\n",
       "      <td>133.0</td>\n",
       "      <td>80.516</td>\n",
       "      <td>82.719</td>\n",
       "      <td>360.417728</td>\n",
       "      <td>22217.5</td>\n",
       "      <td>0.0</td>\n",
       "      <td>0.0</td>\n",
       "      <td>1.0</td>\n",
       "      <td>0.0</td>\n",
       "    </tr>\n",
       "  </tbody>\n",
       "</table>\n",
       "<p>1 rows × 34 columns</p>\n",
       "</div>"
      ],
      "text/plain": [
       "   자치구코드 자치구명  법정동코드 법정동명  지번구분 지번구분명    본번   부번   건물명         계약일  ...  \\\n",
       "0  11380  은평구  10800  역촌동   1.0    대지  26.0  7.0  서원타운  2020-01-01  ...   \n",
       "\n",
       "   소비자물가지수  아파트 매매 실거래가격지수  주택매매가격지수(KB)  주택전세가격지수(KB)      면적당 단가  \\\n",
       "0   100.09           133.0        80.516        82.719  360.417728   \n",
       "\n",
       "   물건금액(만원)_평균  건물용도_단독다가구  건물용도_아파트  건물용도_연립다세대  건물용도_오피스텔  \n",
       "0      22217.5         0.0       0.0         1.0        0.0  \n",
       "\n",
       "[1 rows x 34 columns]"
      ]
     },
     "execution_count": 10,
     "metadata": {},
     "output_type": "execute_result"
    }
   ],
   "source": [
    "df = pd.read_csv('seoul_estate_data.csv', encoding='utf-8-sig')\n",
    "df.head(1)"
   ]
  },
  {
   "cell_type": "code",
   "execution_count": null,
   "metadata": {},
   "outputs": [],
   "source": []
  }
 ],
 "metadata": {
  "kernelspec": {
   "display_name": "Python 3",
   "language": "python",
   "name": "python3"
  },
  "language_info": {
   "codemirror_mode": {
    "name": "ipython",
    "version": 3
   },
   "file_extension": ".py",
   "mimetype": "text/x-python",
   "name": "python",
   "nbconvert_exporter": "python",
   "pygments_lexer": "ipython3",
   "version": "3.12.7"
  }
 },
 "nbformat": 4,
 "nbformat_minor": 2
}
